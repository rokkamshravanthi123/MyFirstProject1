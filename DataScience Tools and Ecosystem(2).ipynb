{
  "metadata": {
    "kernelspec": {
      "name": "python",
      "display_name": "Python (Pyodide)",
      "language": "python"
    },
    "language_info": {
      "codemirror_mode": {
        "name": "python",
        "version": 3
      },
      "file_extension": ".py",
      "mimetype": "text/x-python",
      "name": "python",
      "nbconvert_exporter": "python",
      "pygments_lexer": "ipython3",
      "version": "3.8"
    }
  },
  "nbformat_minor": 4,
  "nbformat": 4,
  "cells": [
    {
      "cell_type": "markdown",
      "source": "# DATA SCIENCE TOOLS AND ECOSYSTEM",
      "metadata": {}
    },
    {
      "cell_type": "markdown",
      "source": "In this notebook Data Science Tools and Ecosystem is summarized.",
      "metadata": {}
    },
    {
      "cell_type": "markdown",
      "source": "Some of the popular Languages that Data scientits use are:\n1. Python\n2. R\n3. SQL\n4. Matlab",
      "metadata": {}
    },
    {
      "cell_type": "markdown",
      "source": "Some of the commonly used libraries used by Data Scientists include:\n1. NumPy\n2. Pandas\n3. Matplotlab\n4. PyTorch\n5. SciPy ",
      "metadata": {}
    },
    {
      "cell_type": "markdown",
      "source": "DATASCIENCE TOOLS  \n|Development Environment|Data Tools|\n|------------------------|----------|\n|Data Visualisation|Ggplot2|\n|Data Analysis| Apache Hadoop|\n|Data Mining| Pandas|",
      "metadata": {}
    },
    {
      "cell_type": "markdown",
      "source": "### Below are a few examples of evaluating arithmetic expressions in Python:",
      "metadata": {}
    },
    {
      "cell_type": "code",
      "source": "print((3*4)+5);\n#This is a simple arithmetic Expression to multiply and add the numbers!",
      "metadata": {
        "trusted": true
      },
      "outputs": [
        {
          "name": "stdout",
          "text": "17\n",
          "output_type": "stream"
        }
      ],
      "execution_count": 5
    },
    {
      "cell_type": "code",
      "source": "#This will convert 200 minutes to hours by diving by 60\nprint(\"The 200 minutes is equals to \",200/60,\"hours\");\n",
      "metadata": {
        "trusted": true
      },
      "outputs": [
        {
          "name": "stdout",
          "text": "The 200 minutes is equals to  3.3333333333333335 hours\n",
          "output_type": "stream"
        }
      ],
      "execution_count": 8
    },
    {
      "cell_type": "markdown",
      "source": "The main objectives of doing this lab\n\n\n**Objectives:**\n\n* The popular languages used by Data Scientists.\n* The Data Tools used in the Datascience.\n* To familiarize with the usage of Jupyter notebook and to work with such development environments.\n* To do the basic programming in Python.",
      "metadata": {}
    },
    {
      "cell_type": "markdown",
      "source": "## Author:\nRokkam Shravanthi",
      "metadata": {}
    },
    {
      "cell_type": "code",
      "source": "",
      "metadata": {
        "trusted": true
      },
      "outputs": [],
      "execution_count": null
    }
  ]
}